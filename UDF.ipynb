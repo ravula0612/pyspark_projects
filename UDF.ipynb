{
 "cells": [
  {
   "cell_type": "code",
   "execution_count": 20,
   "metadata": {},
   "outputs": [
    {
     "data": {
      "text/plain": [
       "DataFrame[a: bigint, b: double, c: string, d: date, e: timestamp]"
      ]
     },
     "execution_count": 20,
     "metadata": {},
     "output_type": "execute_result"
    }
   ],
   "source": [
    "# creating spark session\n",
    "from pyspark.sql import SparkSession\n",
    "spark = SparkSession.builder.getOrCreate()\n",
    "\n",
    "# create a dataframe using a list of rows\n",
    "from datetime import datetime, date\n",
    "import pandas as pd # type: ignore\n",
    "from pyspark.sql import Row\n",
    "from pyspark.sql.types import StringType, IntegerType\n",
    "# need for the udf defination.\n",
    "from pyspark.sql.functions import udf, pandas_udf, col\n",
    "\n",
    "df = spark.createDataFrame([\n",
    "    Row(a=1, b=2., c='string1', d=date(2000, 1, 1), e=datetime(2000, 1, 1, 12, 0)),\n",
    "    Row(a=2, b=3., c='string2', d=date(2000, 2, 1), e=datetime(2000, 1, 2, 12, 0)),\n",
    "    Row(a=4, b=5., c='string3', d=date(2000, 3, 1), e=datetime(2000, 1, 3, 12, 0))\n",
    "])\n",
    "df"
   ]
  },
  {
   "cell_type": "code",
   "execution_count": 12,
   "metadata": {},
   "outputs": [
    {
     "name": "stdout",
     "output_type": "stream",
     "text": [
      "+---+---+-------+----------+-------------------+\n",
      "|  a|  b|      c|         d|                  e|\n",
      "+---+---+-------+----------+-------------------+\n",
      "|  1|2.0|string1|2000-01-01|2000-01-01 12:00:00|\n",
      "|  2|3.0|string2|2000-02-01|2000-01-02 12:00:00|\n",
      "|  4|5.0|string3|2000-03-01|2000-01-03 12:00:00|\n",
      "+---+---+-------+----------+-------------------+\n",
      "\n"
     ]
    }
   ],
   "source": [
    "df.show()"
   ]
  },
  {
   "cell_type": "code",
   "execution_count": 15,
   "metadata": {},
   "outputs": [
    {
     "name": "stdout",
     "output_type": "stream",
     "text": [
      "+---+---+-------+----------+-------------------+\n",
      "|  a|  b|      c|         d|                  e|\n",
      "+---+---+-------+----------+-------------------+\n",
      "|  2|2.0|string1|2000-01-01|2000-01-01 12:00:00|\n",
      "|  3|3.0|string2|2000-02-01|2000-01-02 12:00:00|\n",
      "|  5|5.0|string3|2000-03-01|2000-01-03 12:00:00|\n",
      "+---+---+-------+----------+-------------------+\n",
      "\n"
     ]
    }
   ],
   "source": [
    "#udf defination \n",
    "@pandas_udf('long')\n",
    "def pandas_plus_one(series: pd.Series) -> pd.Series:\n",
    "    # Simply plus one by using pandas Series.\n",
    "    return series + 1\n",
    "\n",
    "\n",
    "df.withColumn(\"a\", pandas_plus_one(df.a)).alias('a').show()"
   ]
  },
  {
   "cell_type": "code",
   "execution_count": 16,
   "metadata": {},
   "outputs": [
    {
     "name": "stdout",
     "output_type": "stream",
     "text": [
      "+---+---+-----------+----------+-------------------+\n",
      "|  a|  b|          c|         d|                  e|\n",
      "+---+---+-----------+----------+-------------------+\n",
      "|  1|2.0|Udf_string1|2000-01-01|2000-01-01 12:00:00|\n",
      "|  2|3.0|Udf_string2|2000-02-01|2000-01-02 12:00:00|\n",
      "|  4|5.0|Udf_string3|2000-03-01|2000-01-03 12:00:00|\n",
      "+---+---+-----------+----------+-------------------+\n",
      "\n"
     ]
    }
   ],
   "source": [
    "\n",
    "\n",
    "replace_hello_with_bonjour = udf(lambda x: x.replace(\"string\", \"Udf_string\"), StringType())\n",
    "\n",
    "df = df.withColumn(\"c\", replace_hello_with_bonjour(df.c))\n",
    "\n",
    "df.show()"
   ]
  },
  {
   "cell_type": "code",
   "execution_count": 19,
   "metadata": {},
   "outputs": [
    {
     "name": "stdout",
     "output_type": "stream",
     "text": [
      "+-------------+\n",
      "|doubled_value|\n",
      "+-------------+\n",
      "|            2|\n",
      "|            4|\n",
      "|            6|\n",
      "+-------------+\n",
      "\n"
     ]
    }
   ],
   "source": [
    "\n",
    "# Create a SparkSession\n",
    "spark = SparkSession.builder.appName(\"UDF Example\").getOrCreate()\n",
    "\n",
    "# Create a DataFrame\n",
    "data = [\n",
    "    (1,),\n",
    "    (2,),\n",
    "    (3,)\n",
    "]\n",
    "df = spark.createDataFrame(data, [\"column_name\"])\n",
    "\n",
    "# Define and register the UDF\n",
    "def double_value(value):\n",
    "    return value * 2\n",
    "\n",
    "double_value_udf = udf(double_value, IntegerType())\n",
    "spark.udf.register(\"double_value\", double_value_udf)\n",
    "\n",
    "# Use the UDF in a SQL query\n",
    "result_df = df.select(double_value_udf(col(\"column_name\")).alias(\"doubled_value\"))\n",
    "\n",
    "# Show the result\n",
    "result_df.show()"
   ]
  }
 ],
 "metadata": {
  "kernelspec": {
   "display_name": "Python 3",
   "language": "python",
   "name": "python3"
  },
  "language_info": {
   "codemirror_mode": {
    "name": "ipython",
    "version": 3
   },
   "file_extension": ".py",
   "mimetype": "text/x-python",
   "name": "python",
   "nbconvert_exporter": "python",
   "pygments_lexer": "ipython3",
   "version": "3.11.4"
  }
 },
 "nbformat": 4,
 "nbformat_minor": 2
}
